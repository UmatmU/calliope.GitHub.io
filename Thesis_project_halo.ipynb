{
  "nbformat": 4,
  "nbformat_minor": 0,
  "metadata": {
    "colab": {
      "provenance": [],
      "authorship_tag": "ABX9TyOvnooXeABB6jeeywWeHw0W",
      "include_colab_link": true
    },
    "kernelspec": {
      "name": "python3",
      "display_name": "Python 3"
    },
    "language_info": {
      "name": "python"
    }
  },
  "cells": [
    {
      "cell_type": "markdown",
      "metadata": {
        "id": "view-in-github",
        "colab_type": "text"
      },
      "source": [
        "<a href=\"https://colab.research.google.com/github/UmatmU/UmatmU.GitHub.io/blob/gh-pages/Thesis_project_halo.ipynb\" target=\"_parent\"><img src=\"https://colab.research.google.com/assets/colab-badge.svg\" alt=\"Open In Colab\"/></a>"
      ]
    },
    {
      "cell_type": "code",
      "source": [
        "#Run this command twice\n",
        "!pip install -q condacolab\n",
        "import condacolab\n",
        "condacolab.install()\n",
        "!conda install --no-pin pyccl\n",
        "import pyccl as ccl"
      ],
      "metadata": {
        "colab": {
          "base_uri": "https://localhost:8080/"
        },
        "id": "EK24ijkEMR_b",
        "outputId": "afcbd7b6-074c-4c1e-8e8b-6c23bf75bc6d"
      },
      "execution_count": 1,
      "outputs": [
        {
          "output_type": "stream",
          "name": "stdout",
          "text": [
            "\u001b[33mWARNING: Running pip as the 'root' user can result in broken permissions and conflicting behaviour with the system package manager. It is recommended to use a virtual environment instead: https://pip.pypa.io/warnings/venv\u001b[0m\u001b[33m\n",
            "\u001b[0m✨🍰✨ Everything looks OK!\n",
            "Channels:\n",
            " - conda-forge\n",
            "Platform: linux-64\n",
            "Collecting package metadata (repodata.json): - \b\b\\ \b\b| \b\b/ \b\b- \b\b\\ \b\b| \b\b/ \b\b- \b\b\\ \b\b| \b\b/ \b\b- \b\bdone\n",
            "Solving environment: | \b\b/ \b\b- \b\b\\ \b\b| \b\bdone\n",
            "\n",
            "\n",
            "==> WARNING: A newer version of conda exists. <==\n",
            "    current version: 23.11.0\n",
            "    latest version: 24.1.2\n",
            "\n",
            "Please update conda by running\n",
            "\n",
            "    $ conda update -n base -c conda-forge conda\n",
            "\n",
            "\n",
            "\n",
            "# All requested packages already installed.\n",
            "\n"
          ]
        }
      ]
    },
    {
      "cell_type": "code",
      "execution_count": 1,
      "metadata": {
        "colab": {
          "base_uri": "https://localhost:8080/",
          "height": 395
        },
        "id": "v3C6Mus4L2uh",
        "outputId": "5f8a6a2d-f876-4e4c-ad2a-9020de5c31a5"
      },
      "outputs": [
        {
          "output_type": "error",
          "ename": "ModuleNotFoundError",
          "evalue": "No module named 'pyccl'",
          "traceback": [
            "\u001b[0;31m---------------------------------------------------------------------------\u001b[0m",
            "\u001b[0;31mModuleNotFoundError\u001b[0m                       Traceback (most recent call last)",
            "\u001b[0;32m<ipython-input-1-fd6408736143>\u001b[0m in \u001b[0;36m<cell line: 2>\u001b[0;34m()\u001b[0m\n\u001b[1;32m      1\u001b[0m \u001b[0;32mimport\u001b[0m \u001b[0mnumpy\u001b[0m \u001b[0;32mas\u001b[0m \u001b[0mnp\u001b[0m\u001b[0;34m\u001b[0m\u001b[0;34m\u001b[0m\u001b[0m\n\u001b[0;32m----> 2\u001b[0;31m \u001b[0;32mimport\u001b[0m \u001b[0mpyccl\u001b[0m \u001b[0;32mas\u001b[0m \u001b[0mccl\u001b[0m\u001b[0;34m\u001b[0m\u001b[0;34m\u001b[0m\u001b[0m\n\u001b[0m\u001b[1;32m      3\u001b[0m \u001b[0;32mimport\u001b[0m \u001b[0mpylab\u001b[0m \u001b[0;32mas\u001b[0m \u001b[0mplt\u001b[0m\u001b[0;34m\u001b[0m\u001b[0;34m\u001b[0m\u001b[0m\n\u001b[1;32m      4\u001b[0m \u001b[0;32mimport\u001b[0m \u001b[0mmatplotlib\u001b[0m\u001b[0;34m.\u001b[0m\u001b[0mcm\u001b[0m \u001b[0;32mas\u001b[0m \u001b[0mcm\u001b[0m\u001b[0;34m\u001b[0m\u001b[0;34m\u001b[0m\u001b[0m\n\u001b[1;32m      5\u001b[0m \u001b[0;32mfrom\u001b[0m \u001b[0mscipy\u001b[0m \u001b[0;32mimport\u001b[0m \u001b[0mintegrate\u001b[0m\u001b[0;34m\u001b[0m\u001b[0;34m\u001b[0m\u001b[0m\n",
            "\u001b[0;31mModuleNotFoundError\u001b[0m: No module named 'pyccl'",
            "",
            "\u001b[0;31m---------------------------------------------------------------------------\u001b[0;32m\nNOTE: If your import is failing due to a missing package, you can\nmanually install dependencies using either !pip or !apt.\n\nTo view examples of installing some common dependencies, click the\n\"Open Examples\" button below.\n\u001b[0;31m---------------------------------------------------------------------------\u001b[0m\n"
          ],
          "errorDetails": {
            "actions": [
              {
                "action": "open_url",
                "actionText": "Open Examples",
                "url": "/notebooks/snippets/importing_libraries.ipynb"
              }
            ]
          }
        }
      ],
      "source": [
        "import numpy as np\n",
        "import pylab as plt\n",
        "import matplotlib.cm as cm\n",
        "from scipy import integrate\n",
        "from scipy import interpolate\n",
        "from functools import partial\n",
        "%matplotlib inline"
      ]
    },
    {
      "cell_type": "code",
      "source": [
        "# Cosmology\n",
        "cosmo = ccl.Cosmology(Omega_c=0.196, Omega_b=0.042, h=0.73, sigma8=0.74, n_s=0.951)\n",
        "# Omega_c=0.2265, Omega_b=0.0455, h=0.704, sigma8=0.81 , n_s=0.967) # WMAP7 cosmology from vanDaalen 2019\n",
        "\n",
        "# size of k\n",
        "kmin = 1E-2; kmax = 1\n",
        "# Wavenumbers\n",
        "k_arr = np.geomspace(kmin,kmax,256)  # np.geomspace() similar to np.logspace(), but with endpoints specified directly; e.g. np.geomspace(1, 256, num=4), output: array([(256)^(0/3), (256)^(1/3), (256)^(2/3), 256]). remarks: for pt. start from non-one # e.g. np.geomspace(1E-2,1,4), just shift the starting pt to one, output: [0.01*0.01^(-0/3), 0.01*0.01^(-1/3), 0.01*0.01^(-2/3) , 0.01*0.01^(-3/3)]\n",
        "\n",
        "# Scale factor\n",
        "a_sf=1\n",
        "\n",
        "# We will use a mass definition with Delta = 200 times the matter density\n",
        "hmd_200m = ccl.halos.MassDef(200, 'matter')\n",
        "# The Tinker 2008 mass function\n",
        "hmf_200m = ccl.halos.MassFuncTinker08(mass_def=hmd_200m, mass_def_strict=False)\n",
        "# The Tinker 2010 halo bias\n",
        "hbf = ccl.halos.HaloBiasTinker10(mass_def=hmd_200m, mass_def_strict=False)\n",
        "# The Duffy 2008 concentration-mass relation\n",
        "cM = ccl.halos.ConcentrationDuffy08(mass_def=hmd_200m)\n",
        "# The NFW profile to characterize the matter density around halos\n",
        "pM = ccl.halos.HaloProfileNFW(mass_def=hmd_200m, concentration=cM)\n",
        "hmc = ccl.halos.HMCalculator(mass_function=hmf_200m, halo_bias=hbf,mass_def=hmd_200m)\n",
        "print(hmd_200m)\n",
        "# Define some useful densities\n",
        "rho_m = cosmo['Omega_m']*ccl.physical_constants.RHO_CRITICAL*cosmo['h']**2\n",
        "rho_DM = cosmo['Omega_c']*ccl.physical_constants.RHO_CRITICAL*cosmo['h']**2\n",
        "rho_g = rho_m - rho_DM\n",
        "\n",
        "#For the gas mass fraction within halos\n",
        "m_0g = 1E12/cosmo['h']\n",
        "sigmag = 3\n",
        "\n",
        "#For the gas profile\n",
        "beta = 2.9\n",
        "\n",
        "#Parameters that inform the power spectrum of the gas,\n",
        "#specifically the extended component.\n",
        "Fg = 0.05 #this is an example, it should be <<1\n",
        "bd = 0.85 #from Fedeli\n",
        "\n",
        "# A reference halo mass that will be used later\n",
        "mhalo = 1E14/cosmo['h']\n",
        "\n",
        "# Array of masses\n",
        "mmin_DM=1E6\n",
        "mmax_DM=1E16\n",
        "mmin_gas=m_0g\n",
        "mmax_gas=mmax_DM\n",
        "m_arr = np.geomspace(mmin_DM,mmax_DM,128)"
      ],
      "metadata": {
        "id": "PJ0s4aghMA0S"
      },
      "execution_count": null,
      "outputs": []
    },
    {
      "cell_type": "markdown",
      "source": [
        "Plot the f_gas vs M for Mead's halo model."
      ],
      "metadata": {
        "id": "U4WyI-BTM3Mi"
      }
    },
    {
      "cell_type": "code",
      "source": [
        "def f_gas(m):\n",
        "    fgas = []\n",
        "    for i in m:\n",
        "        if i<m_0g:\n",
        "            fgas.append(0.)\n",
        "        else:\n",
        "            fgas.append((cosmo['Omega_b']/cosmo['Omega_m'])*(i/m_0g)**beta/(1+(i/m_0g)**beta)) # fitting parameter beta>0\n",
        "    return fgas\n",
        "\n",
        "plt.figure()\n",
        "plt.plot(m_arr*cosmo['h'],f_gas(m_arr), 'b-')\n",
        "plt.xscale('log')\n",
        "plt.xlabel(r'$M$ $[$M$_\\odot/h]$',fontsize=18)\n",
        "plt.ylabel(r'$f_{\\rm gas}(M)$',fontsize=18)\n",
        "plt.title('Plot of ' r'$f_{\\rm gas}(M)$ versus M',fontsize=18)\n",
        "plt.show()"
      ],
      "metadata": {
        "id": "HCji6Q06MDHm"
      },
      "execution_count": null,
      "outputs": []
    },
    {
      "cell_type": "markdown",
      "source": [
        "Plot the P_b/P_dm vs k figure for Mead's halo model."
      ],
      "metadata": {
        "id": "rz2w2f7nMyCa"
      }
    },
    {
      "cell_type": "code",
      "source": [
        "#Interpolate the profiles for speed\n",
        "row = 150; col = 2000\n",
        "M = np.logspace(np.log10(mmin_DM),np.log10(mmax_DM),num=row)  # list of DM masses spreaded by log-spacing; np.logspace(start,stop,num) e.g. np.logspace(2.0,3.0,num=4), output: array([10^2, 10^(2+1/3), 10^(2+2/3), 10^3])\n",
        "yDM=np.zeros((row,col))\n",
        "M2D = np.zeros((row,col))  # store the list of masses repeatedly in multiple columns\n",
        "for i in range(0,col):\n",
        "    M2D[:,i]=M\n",
        "K = np.linspace(kmin,kmax,num=col)  # e.g. np.linspace(2.0, 3.0, num=5), output: array([2., 2.25, 2.5, 2.75, 3.])\n",
        "for j in range(0,row):\n",
        "    yDM[j,:]=pM.fourier(cosmo, K, M[j], a_sf)/M[j]\n",
        "fDM = interpolate.interp2d(M,K,np.transpose(yDM))\n",
        "print(\"DM profiles interpolated...\\n\")\n",
        "\n",
        "# Halo Mass Calculator (for DM)\n",
        "hmc = ccl.halos.HMCalculator(mass_function=hmf_200m, halo_bias=hbf, mass_def=hmd_200m)\n",
        "\n",
        "# Generic integrals needed\n",
        "# From Mead (2020)\n",
        "def integrandDM(m,k,prof1):\n",
        "    dndlog10m = hmf_200m(cosmo, m, a_sf)\n",
        "    dndm=dndlog10m/(m*np.log(10.))\n",
        "    bm = hbf(cosmo,m,a_sf)\n",
        "    W = prof1(m,k)\n",
        "    return dndm*bm*W*m\n",
        "def integratedDM(mmin,mmax,k,p1):\n",
        "    return integrate.quad(integrandDM, mmin, mmax, args=(k,p1),epsabs=0,epsrel=1E-4,limit=5000)[0]\n",
        "\n",
        "# def integrandGENbp(m,k,prof1):\n",
        "#     bm = hbf(cosmo,m,a_sf)\n",
        "#     dndlog10m = hmf_200m(cosmo, m, a_sf)\n",
        "#     dndm=dndlog10m/(m*np.log(10.))\n",
        "#     y=prof1(m,k)\n",
        "#     return dndm*m*bm*y\n",
        "# def integratedGENbp(mmin,mmax,k,p1):\n",
        "#     return integrate.quad(integrandGENbp, mmin, mmax, args=(k,p1),epsabs=0,epsrel=1E-3,limit=5000)[0]\n",
        "\n",
        "def f_g(m):\n",
        "    if m<m_0g:\n",
        "      fg=0\n",
        "    else:\n",
        "      fg=(cosmo['Omega_b']/cosmo['Omega_m'])*(m/m_0g)**beta/(1+(m/m_0g)**beta) # fitting parameter beta>0\n",
        "    return fg\n",
        "\n",
        "def integrandB(m,k,prof1):\n",
        "    dndlog10m = hmf_200m(cosmo, m, a_sf)\n",
        "    dndm=dndlog10m/(m*np.log(10.))\n",
        "    bm = hbf(cosmo,m,a_sf)\n",
        "    Wb = prof1(m,k)*(f_g(m))\n",
        "    return dndm*bm*Wb*m\n",
        "\n",
        "def integratedB(mmin,mmax,k,p1):\n",
        "    return integrate.quad(integrandB, mmin, mmax, args=(k,p1),epsabs=0,epsrel=1E-4,limit=5000)[0]\n",
        "\n",
        "# power spectrum, PDM2h for DM; PB2h for baryon\n",
        "# def PDM2h(k):\n",
        "#     return ccl.linear_matter_power(cosmo, k, a_sf)*integratedGENbp(mmin_DM,mmax_DM,k,fDM)**2\n",
        "\n",
        "def PDM2h(k):\n",
        "    return ccl.linear_matter_power(cosmo, k, a_sf)*integratedDM(mmin_DM,mmax_DM,k,fDM)**2\n",
        "\n",
        "def PB2h(k):\n",
        "    return ccl.linear_matter_power(cosmo, k, a_sf)*(integratedB(mmin_gas,mmax_DM,k,fDM)+cosmo['Omega_c']/cosmo['Omega_m']*integratedDM(mmin_DM,mmax_DM,k,fDM))**2\n",
        "\n",
        "PDM2h_arr=np.zeros(len(k_arr))\n",
        "PB2h_arr=np.zeros(len(k_arr))\n",
        "for i in range(0,len(k_arr)):\n",
        "    PDM2h_arr[i]=PDM2h(k_arr[i])\n",
        "    PB2h_arr[i]=PB2h(k_arr[i])"
      ],
      "metadata": {
        "id": "jysF2Ol1MFVR"
      },
      "execution_count": null,
      "outputs": []
    },
    {
      "cell_type": "markdown",
      "source": [
        "Plot the P_b and P_dm vs k respectively for Mead's halo model."
      ],
      "metadata": {
        "id": "m8qek-R2NMkz"
      }
    },
    {
      "cell_type": "code",
      "source": [
        "plt.figure(figsize=(7,6))\n",
        "\n",
        "# Non-linear matter power spectrum, for comparison\n",
        "pk_nl = ccl.nonlin_matter_power(cosmo, k_arr, a_sf)\n",
        "\n",
        "# Plot for the ratio P_DM/P_nl and P_b/P_nl of 2-halo\n",
        "plt.plot(k_arr/cosmo['h'], (1/rho_m)**2*PDM2h_arr/pk_nl, 'k-', label='$P_{DM}^{2H}(k)$')\n",
        "plt.plot(k_arr/cosmo['h'], (1/rho_m)**2*PB2h_arr/pk_nl, 'r-', label='$P_{B}^{2H}(k)$')\n",
        "\n",
        "print(PDM2h_arr[20])\n",
        "print(pk_nl[20])\n",
        "\n",
        "plt.xscale('log')\n",
        "plt.yscale('log')\n",
        "plt.legend(loc='lower left', fontsize=12.5)\n",
        "plt.ylabel(r'$P^{2H}(k)/P_{nl}(k)$', fontsize=15)\n",
        "plt.xlabel(r'$k\\,\\,[{\\rm h/Mpc}]$', fontsize=15)\n",
        "plt.title('Plot of $P^{2H}(k)/P_{nl}(k)$ versus k',fontsize=18)\n",
        "\n",
        "plt.show()"
      ],
      "metadata": {
        "id": "q1tsX1WwMHtn"
      },
      "execution_count": null,
      "outputs": []
    },
    {
      "cell_type": "markdown",
      "source": [
        "Plot the P_b/P_dm vs k figure for Mead's halo model."
      ],
      "metadata": {
        "id": "AwxoD9n5NHlS"
      }
    },
    {
      "cell_type": "code",
      "source": [
        "from scipy.optimize import curve_fit\n",
        "\n",
        "# The reduced ratio function\n",
        "def f(k,n):\n",
        "  return 1-n*k**2\n",
        "\n",
        "plt.figure(figsize=(7,6))\n",
        "\n",
        "# # Plot for the ratio P_b/P_DM of 2-halo\n",
        "# plt.plot(k_arr/cosmo['h'], PB2h_arr/PDM2h_arr, 'k-')\n",
        "\n",
        "# Fit the curve\n",
        "plt.scatter(k_arr/cosmo['h'], PB2h_arr/PDM2h_arr, s=3, color='r')\n",
        "popt, _ = curve_fit(f, k_arr/cosmo['h'], PB2h_arr/PDM2h_arr) # popt: optimal/coefficient value\n",
        "plt.plot(k_arr/cosmo['h'], f(k_arr/cosmo['h'], *popt), color='black', label='Slope of ratio/k = %.3f' % tuple(popt))\n",
        "\n",
        "plt.xscale('log')\n",
        "plt.yscale('log')\n",
        "plt.ylabel(r'$P_{B}^{2H}(k)/P_{DM}^{2H}(k)$', fontsize=15)\n",
        "plt.xlabel(r'$k\\,\\,[{\\rm h/Mpc}]$', fontsize=15)\n",
        "plt.title('Plot of $P_{B}^{2H}(k)/P_{DM}^{2H}(k)$ versus k', fontsize=18)\n",
        "\n",
        "plt.show()"
      ],
      "metadata": {
        "id": "DqQPjokFMMyX"
      },
      "execution_count": null,
      "outputs": []
    }
  ]
}